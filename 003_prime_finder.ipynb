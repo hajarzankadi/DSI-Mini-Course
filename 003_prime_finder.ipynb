{
 "cells": [
  {
   "cell_type": "code",
   "execution_count": 30,
   "id": "9101e5a1",
   "metadata": {},
   "outputs": [],
   "source": [
    "n=20\n",
    "number_range= set(range(2,n+1))\n",
    "prime_list=[]\n",
    "\n",
    "while number_range:\n",
    "    #extract the first element in the range, which is 2 and it is a prime number\n",
    "    prime =number_range.pop()\n",
    "    prime_list.append(prime)\n",
    "    # after extracting the first prime in the range, we need to exclude the multiples of 2\n",
    "    multiples= set(range(prime*2, n+1, prime))\n",
    "    #check the value of prime set against the values of multiple\n",
    "    number_range.difference_update(multiples)\n",
    "\n"
   ]
  },
  {
   "cell_type": "code",
   "execution_count": 31,
   "id": "d0ce4573",
   "metadata": {},
   "outputs": [
    {
     "name": "stdout",
     "output_type": "stream",
     "text": [
      "[2, 3, 5, 7, 11, 13, 17, 19]\n"
     ]
    }
   ],
   "source": [
    "print(prime_list)"
   ]
  },
  {
   "cell_type": "code",
   "execution_count": 32,
   "id": "bd258fba",
   "metadata": {},
   "outputs": [
    {
     "name": "stdout",
     "output_type": "stream",
     "text": [
      "there are 8 between 2 and 20, the highest prime is 19\n"
     ]
    }
   ],
   "source": [
    "prime_count = len(prime_list)\n",
    "highest_prime = max(prime_list)\n",
    "print(f\"there are {prime_count} between 2 and {n}, the highest prime is {highest_prime}\")"
   ]
  },
  {
   "cell_type": "code",
   "execution_count": null,
   "id": "d8f103ba",
   "metadata": {},
   "outputs": [],
   "source": []
  }
 ],
 "metadata": {
  "kernelspec": {
   "display_name": "Python 3 (ipykernel)",
   "language": "python",
   "name": "python3"
  },
  "language_info": {
   "codemirror_mode": {
    "name": "ipython",
    "version": 3
   },
   "file_extension": ".py",
   "mimetype": "text/x-python",
   "name": "python",
   "nbconvert_exporter": "python",
   "pygments_lexer": "ipython3",
   "version": "3.8.10"
  }
 },
 "nbformat": 4,
 "nbformat_minor": 5
}
