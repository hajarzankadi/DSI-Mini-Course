{
 "cells": [
  {
   "cell_type": "code",
   "execution_count": 29,
   "id": "9e9c8b4b",
   "metadata": {},
   "outputs": [
    {
     "ename": "IndentationError",
     "evalue": "expected an indented block (4142317887.py, line 7)",
     "output_type": "error",
     "traceback": [
      "\u001b[0;36m  File \u001b[0;32m\"/tmp/ipykernel_68172/4142317887.py\"\u001b[0;36m, line \u001b[0;32m7\u001b[0m\n\u001b[0;31m    prime =number_range.pop()\u001b[0m\n\u001b[0m    ^\u001b[0m\n\u001b[0;31mIndentationError\u001b[0m\u001b[0;31m:\u001b[0m expected an indented block\n"
     ]
    }
   ],
   "source": [
    "n=20\n",
    "number_range= set(range(2,n+1))\n",
    "prime_list=[]\n",
    "\n",
    "while number_range:\n",
    "    #extract the first element in the range, which is 2 and it is a prime number\n",
    "    prime =number_range.pop()\n",
    "    prime_list.append(prime)\n",
    "    # after extracting the first prime in the range, we need to exclude the multiples of 2\n",
    "    multiples= set(range(prime*2, n+1, prime))\n",
    "#check the value of prime set against the values of multiples\n",
    "number_range.difference_update(multiples)\n",
    "\n"
   ]
  },
  {
   "cell_type": "code",
   "execution_count": 28,
   "id": "5be2e247",
   "metadata": {},
   "outputs": [
    {
     "name": "stdout",
     "output_type": "stream",
     "text": [
      "[2]\n"
     ]
    }
   ],
   "source": [
    "print(prime_list)"
   ]
  },
  {
   "cell_type": "code",
   "execution_count": 26,
   "id": "57b12ccd",
   "metadata": {},
   "outputs": [
    {
     "name": "stdout",
     "output_type": "stream",
     "text": [
      "there are 1 between 2 and 20, the highest prime is {3, 5, 7, 9, 11, 13, 15, 17, 19}\n"
     ]
    }
   ],
   "source": [
    "prime_count = len(prime_list)\n",
    "highest_prime = max(prime_list)\n",
    "print(f\"there are {prime_count} between 2 and {n}, the highest prime is {highest_prime}\")"
   ]
  },
  {
   "cell_type": "code",
   "execution_count": null,
   "id": "5840e538",
   "metadata": {},
   "outputs": [],
   "source": []
  }
 ],
 "metadata": {
  "kernelspec": {
   "display_name": "Python 3 (ipykernel)",
   "language": "python",
   "name": "python3"
  },
  "language_info": {
   "codemirror_mode": {
    "name": "ipython",
    "version": 3
   },
   "file_extension": ".py",
   "mimetype": "text/x-python",
   "name": "python",
   "nbconvert_exporter": "python",
   "pygments_lexer": "ipython3",
   "version": "3.8.10"
  }
 },
 "nbformat": 4,
 "nbformat_minor": 5
}
