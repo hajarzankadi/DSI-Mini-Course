{
 "cells": [
  {
   "cell_type": "code",
   "execution_count": 1,
   "id": "115b926d",
   "metadata": {},
   "outputs": [],
   "source": [
    "import pandas as pd"
   ]
  },
  {
   "cell_type": "code",
   "execution_count": 6,
   "id": "9c2367db",
   "metadata": {},
   "outputs": [],
   "source": [
    "data = pd.read_csv(\"/home/hajar/git_workplace/DSI-Mini-Course/data/grocery_sales.csv\")"
   ]
  },
  {
   "cell_type": "code",
   "execution_count": 7,
   "id": "60e71bd4",
   "metadata": {},
   "outputs": [
    {
     "data": {
      "text/html": [
       "<div>\n",
       "<style scoped>\n",
       "    .dataframe tbody tr th:only-of-type {\n",
       "        vertical-align: middle;\n",
       "    }\n",
       "\n",
       "    .dataframe tbody tr th {\n",
       "        vertical-align: top;\n",
       "    }\n",
       "\n",
       "    .dataframe thead th {\n",
       "        text-align: right;\n",
       "    }\n",
       "</style>\n",
       "<table border=\"1\" class=\"dataframe\">\n",
       "  <thead>\n",
       "    <tr style=\"text-align: right;\">\n",
       "      <th></th>\n",
       "      <th>customer_id</th>\n",
       "      <th>transaction_date</th>\n",
       "      <th>transaction_id</th>\n",
       "      <th>sales</th>\n",
       "    </tr>\n",
       "  </thead>\n",
       "  <tbody>\n",
       "    <tr>\n",
       "      <th>0</th>\n",
       "      <td>58</td>\n",
       "      <td>2020-09-01</td>\n",
       "      <td>437091488759</td>\n",
       "      <td>29.93</td>\n",
       "    </tr>\n",
       "    <tr>\n",
       "      <th>1</th>\n",
       "      <td>80</td>\n",
       "      <td>2020-09-01</td>\n",
       "      <td>437092271839</td>\n",
       "      <td>11.50</td>\n",
       "    </tr>\n",
       "    <tr>\n",
       "      <th>2</th>\n",
       "      <td>41</td>\n",
       "      <td>2020-09-01</td>\n",
       "      <td>437093560410</td>\n",
       "      <td>101.56</td>\n",
       "    </tr>\n",
       "    <tr>\n",
       "      <th>3</th>\n",
       "      <td>25</td>\n",
       "      <td>2020-09-01</td>\n",
       "      <td>437096216909</td>\n",
       "      <td>83.01</td>\n",
       "    </tr>\n",
       "    <tr>\n",
       "      <th>4</th>\n",
       "      <td>2</td>\n",
       "      <td>2020-09-01</td>\n",
       "      <td>437096888457</td>\n",
       "      <td>NaN</td>\n",
       "    </tr>\n",
       "  </tbody>\n",
       "</table>\n",
       "</div>"
      ],
      "text/plain": [
       "   customer_id transaction_date  transaction_id   sales\n",
       "0           58       2020-09-01    437091488759   29.93\n",
       "1           80       2020-09-01    437092271839   11.50\n",
       "2           41       2020-09-01    437093560410  101.56\n",
       "3           25       2020-09-01    437096216909   83.01\n",
       "4            2       2020-09-01    437096888457     NaN"
      ]
     },
     "execution_count": 7,
     "metadata": {},
     "output_type": "execute_result"
    }
   ],
   "source": [
    "data.head()"
   ]
  },
  {
   "cell_type": "code",
   "execution_count": 10,
   "id": "c268c674",
   "metadata": {},
   "outputs": [
    {
     "data": {
      "text/plain": [
       "customer_id         0\n",
       "transaction_date    0\n",
       "transaction_id      0\n",
       "sales               4\n",
       "dtype: int64"
      ]
     },
     "execution_count": 10,
     "metadata": {},
     "output_type": "execute_result"
    }
   ],
   "source": [
    "#check missing values\n",
    "data.isna().sum()"
   ]
  },
  {
   "cell_type": "code",
   "execution_count": 11,
   "id": "c7cb8d2a",
   "metadata": {},
   "outputs": [],
   "source": [
    "#filling missing values with the mean\n",
    "avg_sales = data[\"sales\"].mean()\n",
    "data[\"sales\"].fillna(value = avg_sales, inplace = True ) "
   ]
  },
  {
   "cell_type": "code",
   "execution_count": 12,
   "id": "57e8ff6b",
   "metadata": {},
   "outputs": [
    {
     "data": {
      "text/html": [
       "<div>\n",
       "<style scoped>\n",
       "    .dataframe tbody tr th:only-of-type {\n",
       "        vertical-align: middle;\n",
       "    }\n",
       "\n",
       "    .dataframe tbody tr th {\n",
       "        vertical-align: top;\n",
       "    }\n",
       "\n",
       "    .dataframe thead th {\n",
       "        text-align: right;\n",
       "    }\n",
       "</style>\n",
       "<table border=\"1\" class=\"dataframe\">\n",
       "  <thead>\n",
       "    <tr style=\"text-align: right;\">\n",
       "      <th></th>\n",
       "      <th>customer_id</th>\n",
       "      <th>transaction_date</th>\n",
       "      <th>transaction_id</th>\n",
       "      <th>sales</th>\n",
       "    </tr>\n",
       "  </thead>\n",
       "  <tbody>\n",
       "    <tr>\n",
       "      <th>0</th>\n",
       "      <td>58</td>\n",
       "      <td>2020-09-01</td>\n",
       "      <td>437091488759</td>\n",
       "      <td>29.930000</td>\n",
       "    </tr>\n",
       "    <tr>\n",
       "      <th>1</th>\n",
       "      <td>80</td>\n",
       "      <td>2020-09-01</td>\n",
       "      <td>437092271839</td>\n",
       "      <td>11.500000</td>\n",
       "    </tr>\n",
       "    <tr>\n",
       "      <th>2</th>\n",
       "      <td>41</td>\n",
       "      <td>2020-09-01</td>\n",
       "      <td>437093560410</td>\n",
       "      <td>101.560000</td>\n",
       "    </tr>\n",
       "    <tr>\n",
       "      <th>3</th>\n",
       "      <td>25</td>\n",
       "      <td>2020-09-01</td>\n",
       "      <td>437096216909</td>\n",
       "      <td>83.010000</td>\n",
       "    </tr>\n",
       "    <tr>\n",
       "      <th>4</th>\n",
       "      <td>2</td>\n",
       "      <td>2020-09-01</td>\n",
       "      <td>437096888457</td>\n",
       "      <td>56.127617</td>\n",
       "    </tr>\n",
       "  </tbody>\n",
       "</table>\n",
       "</div>"
      ],
      "text/plain": [
       "   customer_id transaction_date  transaction_id       sales\n",
       "0           58       2020-09-01    437091488759   29.930000\n",
       "1           80       2020-09-01    437092271839   11.500000\n",
       "2           41       2020-09-01    437093560410  101.560000\n",
       "3           25       2020-09-01    437096216909   83.010000\n",
       "4            2       2020-09-01    437096888457   56.127617"
      ]
     },
     "execution_count": 12,
     "metadata": {},
     "output_type": "execute_result"
    }
   ],
   "source": [
    "data.head()"
   ]
  },
  {
   "cell_type": "code",
   "execution_count": 13,
   "id": "396db4b3",
   "metadata": {},
   "outputs": [],
   "source": [
    "#sum sales by date\n",
    "sales_summary = data.groupby(\"transaction_date\")[\"sales\"].sum()"
   ]
  },
  {
   "cell_type": "code",
   "execution_count": 14,
   "id": "d86fda3f",
   "metadata": {},
   "outputs": [
    {
     "data": {
      "text/plain": [
       "transaction_date\n",
       "2020-09-01     379.487617\n",
       "2020-09-02     656.370000\n",
       "2020-09-03     465.050000\n",
       "2020-09-04     490.027617\n",
       "2020-09-05     222.980000\n",
       "2020-09-06     539.670000\n",
       "2020-09-07     558.340000\n",
       "2020-09-08     492.480000\n",
       "2020-09-09     119.700000\n",
       "2020-09-10     661.160000\n",
       "2020-09-11     506.160000\n",
       "2020-09-12     553.400000\n",
       "2020-09-13     563.170000\n",
       "2020-09-14     798.020000\n",
       "2020-09-15     535.850000\n",
       "2020-09-16     298.550000\n",
       "2020-09-17     631.547617\n",
       "2020-09-18     760.340000\n",
       "2020-09-19     247.770000\n",
       "2020-09-20     241.370000\n",
       "2020-09-21    1007.210000\n",
       "2020-09-22    1147.620000\n",
       "2020-09-23     515.320000\n",
       "2020-09-24     565.187617\n",
       "2020-09-25     264.250000\n",
       "2020-09-26     476.740000\n",
       "2020-09-27    1057.380000\n",
       "2020-09-28     363.880000\n",
       "2020-09-29     232.100000\n",
       "2020-09-30     420.730000\n",
       "Name: sales, dtype: float64"
      ]
     },
     "execution_count": 14,
     "metadata": {},
     "output_type": "execute_result"
    }
   ],
   "source": [
    "sales_summary "
   ]
  },
  {
   "cell_type": "code",
   "execution_count": null,
   "id": "dcce1792",
   "metadata": {},
   "outputs": [],
   "source": []
  }
 ],
 "metadata": {
  "kernelspec": {
   "display_name": "Python 3 (ipykernel)",
   "language": "python",
   "name": "python3"
  },
  "language_info": {
   "codemirror_mode": {
    "name": "ipython",
    "version": 3
   },
   "file_extension": ".py",
   "mimetype": "text/x-python",
   "name": "python",
   "nbconvert_exporter": "python",
   "pygments_lexer": "ipython3",
   "version": "3.8.10"
  }
 },
 "nbformat": 4,
 "nbformat_minor": 5
}
